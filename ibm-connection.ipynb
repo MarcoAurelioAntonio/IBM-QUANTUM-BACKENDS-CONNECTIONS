{
 "cells": [
  {
   "cell_type": "markdown",
   "id": "29a5cc87",
   "metadata": {},
   "source": [
    "- Class Methods: \n",
    "    - `IBMProvider.save_account(TOKEN, INSTANCE)`: Save your account to disk for future use and optionally set a default hub/group/project to be used when loading your account.\n",
    "    - `IBMProvider.saved_accounts()`: View the accounts saved to disk.\n",
    "    - `IBMProvider.delete_account()`: Delete the saved account from disk.\n",
    "    - `IBMProvider.active_account()`: List the account currently active in the session.\n",
    "\n",
    "- Constructor Usage: \n",
    "    - `IBMProvider()`: Load account and default hub/group/project using saved credentials.\n",
    "    - `IBMProvider(TOKEN)`: Enable your account in the current session."
   ]
  },
  {
   "cell_type": "code",
   "execution_count": 8,
   "id": "b6db54b2",
   "metadata": {},
   "outputs": [
    {
     "data": {
      "text/plain": [
       "[<IBMBackend('ibm_brisbane')>,\n",
       " <IBMBackend('ibmq_qasm_simulator')>,\n",
       " <IBMBackend('simulator_extended_stabilizer')>,\n",
       " <IBMBackend('simulator_mps')>,\n",
       " <IBMBackend('simulator_stabilizer')>,\n",
       " <IBMBackend('ibm_nairobi')>,\n",
       " <IBMBackend('ibm_lagos')>,\n",
       " <IBMBackend('simulator_statevector')>,\n",
       " <IBMBackend('ibm_perth')>]"
      ]
     },
     "execution_count": 8,
     "metadata": {},
     "output_type": "execute_result"
    }
   ],
   "source": [
    "from qiskit_ibm_provider import IBMProvider\n",
    "#IBMProvider.save_account('5ab66cd482d76c8f33.................2e22d22700ef2b93be5025055692', overwrite=True)\n",
    "provider = IBMProvider()\n",
    "provider.backends()"
   ]
  },
  {
   "cell_type": "markdown",
   "id": "841e3c3b",
   "metadata": {},
   "source": [
    "- `backends()`: Returns all backends available to the account.\n",
    "\n",
    "- `get_backend(NAME)`: Returns the named backend."
   ]
  },
  {
   "cell_type": "code",
   "execution_count": 9,
   "id": "98561fc9",
   "metadata": {},
   "outputs": [
    {
     "data": {
      "text/plain": [
       "<IBMBackend('ibm_nairobi')>"
      ]
     },
     "execution_count": 9,
     "metadata": {},
     "output_type": "execute_result"
    }
   ],
   "source": [
    "back = provider.get_backend(\"ibm_nairobi\")\n",
    "back"
   ]
  },
  {
   "cell_type": "markdown",
   "id": "1c227eea",
   "metadata": {},
   "source": [
    "# Filtering the Backends\n",
    "\n",
    "- The below filters can be combined as desired."
   ]
  },
  {
   "cell_type": "code",
   "execution_count": 10,
   "id": "a45a130d",
   "metadata": {},
   "outputs": [
    {
     "data": {
      "text/plain": [
       "[<IBMBackend('ibm_brisbane')>,\n",
       " <IBMBackend('ibm_nairobi')>,\n",
       " <IBMBackend('ibm_lagos')>,\n",
       " <IBMBackend('ibm_perth')>]"
      ]
     },
     "execution_count": 10,
     "metadata": {},
     "output_type": "execute_result"
    }
   ],
   "source": [
    "provider.backends(simulator=False, operational=True)"
   ]
  },
  {
   "cell_type": "code",
   "execution_count": 11,
   "id": "3468834e",
   "metadata": {},
   "outputs": [
    {
     "data": {
      "text/plain": [
       "[<IBMBackend('ibm_brisbane')>,\n",
       " <IBMBackend('ibm_nairobi')>,\n",
       " <IBMBackend('ibm_lagos')>,\n",
       " <IBMBackend('ibm_perth')>]"
      ]
     },
     "execution_count": 11,
     "metadata": {},
     "output_type": "execute_result"
    }
   ],
   "source": [
    "provider.backends(min_num_qubits=5, simulator=False, operational=True)"
   ]
  },
  {
   "cell_type": "code",
   "execution_count": 12,
   "id": "f04efe10",
   "metadata": {},
   "outputs": [
    {
     "name": "stdout",
     "output_type": "stream",
     "text": [
      "<IBMBackend('ibm_brisbane')>\n"
     ]
    }
   ],
   "source": [
    "from qiskit_ibm_provider import least_busy\n",
    "\n",
    "small_devices = provider.backends(min_num_qubits=5, simulator=False, operational=True)\n",
    "backend = least_busy(small_devices)\n",
    "print(backend)"
   ]
  },
  {
   "cell_type": "code",
   "execution_count": 18,
   "id": "46f59b01",
   "metadata": {},
   "outputs": [
    {
     "data": {
      "image/png": "[encoded data removed]",
      "text/plain": [
       "<Figure size 580.387x284.278 with 1 Axes>"
      ]
     },
     "execution_count": 18,
     "metadata": {},
     "output_type": "execute_result"
    }
   ],
   "source": [
    "from qiskit import *\n",
    "\n",
    "qc = QuantumCircuit(2)\n",
    "qc.h(0)\n",
    "qc.cx(0, 1)\n",
    "qc.measure_all()\n",
    "\n",
    "# Drwaing the circuit in a clifford style (default)\n",
    "# qc.draw(style=\"clifford\", output=\"mpl\")\n",
    "\n",
    "# Drawing the circuit in a transpiled style or a iqp style\n",
    "qc.draw(style=\"iqp\", output=\"mpl\")"
   ]
  },
  {
   "cell_type": "markdown",
   "metadata": {},
   "source": [
    "----------------------------------------------------------------------------------"
   ]
  },
  {
   "cell_type": "markdown",
   "metadata": {},
   "source": [
    "### Backends\n",
    "    - Backends represent either a simulator or a real quantum computer, and are responsible for running quantum circuits and/or pulse schedules and returning results. They have a run method which takes in one or more circuits as input, the Qiskit API serialization format, and returns a BaseJob object. This object allows asynchronous running of jobs for retrieving results from a backend when the job is completed.\n",
    "\n",
    "At a minimum, backends use the following methods, inherited from `qiskit.providers.backend.BackendV1`:\n",
    "\n",
    "`provider`: Returns the instance of IBMProvider class used to access the backend.\n",
    "\n",
    "`name`: Returns the name of the backend.\n",
    "\n",
    "`status()`: Returns the current status of the backend.\n",
    "\n",
    "`configuration()`: Returns the backend configuration.\n",
    "\n",
    "`properties()`: Returns the backend properties.\n",
    "\n",
    "`run(circuit, **kwargs)`: Runs a circuit on the backend.\n",
    "\n",
    "#### IBMBackend also accepts additional parameters to the `run()` method:\n",
    "\n",
    "`job_tags`: Tags to be assigned to the job.\n",
    "\n",
    "#### And supports additional methods:\n",
    "\n",
    "`defaults()`: Gives a data structure of typical default parameters, if applicable."
   ]
  },
  {
   "cell_type": "code",
   "execution_count": 19,
   "metadata": {},
   "outputs": [
    {
     "data": {
      "text/plain": [
       "{'backend_name': 'ibm_brisbane',\n",
       " 'backend_version': '',\n",
       " 'operational': True,\n",
       " 'pending_jobs': 3,\n",
       " 'status_msg': 'active'}"
      ]
     },
     "execution_count": 19,
     "metadata": {},
     "output_type": "execute_result"
    }
   ],
   "source": [
    "backend.status().to_dict()"
   ]
  },
  {
   "cell_type": "code",
   "execution_count": null,
   "metadata": {},
   "outputs": [],
   "source": [
    "backend.configuration().to_dict()\n",
    "# The backend configuration provides some useful information via its attributes, such as `basis_gates`,\n",
    "# `coupling_map`, `max_experiments`, `max_shots`, `quantum_volume`, and `simulator`."
   ]
  },
  {
   "cell_type": "markdown",
   "metadata": {},
   "source": [
    "### Jobs\n",
    "    Job instances can be thought of as the “ticket” for a submitted job. They find out the execution state at a given point in time (for example, if the job is queued, running, or has failed), and also allow control over the job. They have the following methods:\n",
    "\n",
    "`status()`: Returns the status of the job.\n",
    "\n",
    "`backend()`: Returns the backend the job was run on.\n",
    "\n",
    "`job_id()`: Gets the job_id.\n",
    "\n",
    "`cancel()`: Cancels the job.\n",
    "\n",
    "`result()`: Gets the results from the circuit run.\n",
    "\n",
    "Some of the methods that are only available to “IBM Job”(IBMJob) include:\n",
    "\n",
    "`creation_date()`: Gives the date at which the job was created.\n",
    "\n",
    "`queue_info()`: Returns queue information for this job, including queue position, estimated start and end time, and dynamic priorities for the hub, group, and project.\n",
    "\n",
    "`error_message()`: The error message of failed jobs, if any.\n",
    "\n",
    "`name()`: Returns the name assigned to this job.\n",
    "\n",
    "`properties()`: Returns the backend properties for this job.\n",
    "\n",
    "`time_per_step()`: Returns the time spent for each step (job creation, validation, etc)."
   ]
  },
  {
   "cell_type": "code",
   "execution_count": 23,
   "metadata": {},
   "outputs": [
    {
     "name": "stderr",
     "output_type": "stream",
     "text": [
      "/home/oem/anaconda3/lib/python3.11/site-packages/qiskit_ibm_provider/ibm_backend.py:447: UserWarning: The backend ibm_brisbane is currently paused.\n",
      "  warnings.warn(f\"The backend {self.name} is currently paused.\")\n"
     ]
    }
   ],
   "source": [
    "from qiskit import *\n",
    "from qiskit.compiler import transpile, assemble\n",
    "\n",
    "qr = QuantumRegister(3)\n",
    "cr = ClassicalRegister(3)\n",
    "circuit = QuantumCircuit(qr, cr)\n",
    "circuit.x(qr[0])\n",
    "circuit.x(qr[1])\n",
    "circuit.ccx(qr[0], qr[1], qr[2])\n",
    "circuit.cx(qr[0], qr[1])\n",
    "circuit.measure(qr, cr)\n",
    "\n",
    "# You should first map the circuit using the transpile function and then send it to the backend:\n",
    "new_circuit = transpile(circuit, backend)\n",
    "job = backend.run(new_circuit, shots=1024)\n",
    "\n",
    "# You can also use the assemble function to transpile and assemble the circuit in one go:\n",
    "# qobj = assemble(circuit, backend)"
   ]
  },
  {
   "cell_type": "code",
   "execution_count": 29,
   "metadata": {},
   "outputs": [
    {
     "data": {
      "image/png": "[encoded data removed]",
      "text/plain": [
       "<Figure size 574.993x367.889 with 1 Axes>"
      ]
     },
     "execution_count": 29,
     "metadata": {},
     "output_type": "execute_result"
    }
   ],
   "source": [
    "circuit.draw(style=\"iqp\", output=\"mpl\")"
   ]
  },
  {
   "cell_type": "code",
   "execution_count": 33,
   "metadata": {},
   "outputs": [
    {
     "data": {
      "text/plain": [
       "<JobStatus.QUEUED: 'job is queued'>"
      ]
     },
     "execution_count": 33,
     "metadata": {},
     "output_type": "execute_result"
    }
   ],
   "source": [
    "job.status()"
   ]
  },
  {
   "cell_type": "code",
   "execution_count": 34,
   "metadata": {},
   "outputs": [
    {
     "data": {
      "text/plain": [
       "'cnb1a10hga30008exyw0'"
      ]
     },
     "execution_count": 34,
     "metadata": {},
     "output_type": "execute_result"
    }
   ],
   "source": [
    "job.job_id()"
   ]
  },
  {
   "cell_type": "code",
   "execution_count": null,
   "metadata": {},
   "outputs": [],
   "source": [
    "result = job.result()\n",
    "counts = result.get_counts()\n",
    "print(counts)\n",
    "\n",
    "#If the `job.status()` is ... <JobStatus.QUEUED: 'job is queued'>\n",
    "# I can't `print(counts)`"
   ]
  },
  {
   "cell_type": "code",
   "execution_count": 31,
   "metadata": {},
   "outputs": [
    {
     "data": {
      "text/plain": [
       "datetime.datetime(2023, 11, 16, 10, 11, 32, 657001, tzinfo=tzlocal())"
      ]
     },
     "execution_count": 31,
     "metadata": {},
     "output_type": "execute_result"
    }
   ],
   "source": [
    "job.creation_date()"
   ]
  }
 ],
 "metadata": {
  "kernelspec": {
   "display_name": "Python 3 (ipykernel)",
   "language": "python",
   "name": "python3"
  },
  "language_info": {
   "codemirror_mode": {
    "name": "ipython",
    "version": 3
   },
   "file_extension": ".py",
   "mimetype": "text/x-python",
   "name": "python",
   "nbconvert_exporter": "python",
   "pygments_lexer": "ipython3",
   "version": "3.11.5"
  }
 },
 "nbformat": 4,
 "nbformat_minor": 5
}
