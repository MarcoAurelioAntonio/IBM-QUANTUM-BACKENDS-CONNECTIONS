{
 "cells": [
  {
   "cell_type": "markdown",
   "id": "29a5cc87",
   "metadata": {},
   "source": [
    "- Class Methods: \n",
    "    - `IBMProvider.save_account(TOKEN, INSTANCE)`: Save your account to disk for future use and optionally set a default hub/group/project to be used when loading your account.\n",
    "    - `IBMProvider.saved_accounts()`: View the accounts saved to disk.\n",
    "    - `IBMProvider.delete_account()`: Delete the saved account from disk.\n",
    "    - `IBMProvider.active_account()`: List the account currently active in the session.\n",
    "\n",
    "- Constructor Usage: \n",
    "    - `IBMProvider()`: Load account and default hub/group/project using saved credentials.\n",
    "    - `IBMProvider(TOKEN)`: Enable your account in the current session."
   ]
  },
  {
   "cell_type": "code",
   "execution_count": 8,
   "id": "b6db54b2",
   "metadata": {},
   "outputs": [
    {
     "data": {
      "text/plain": [
       "[<IBMBackend('ibm_brisbane')>,\n",
       " <IBMBackend('ibmq_qasm_simulator')>,\n",
       " <IBMBackend('simulator_extended_stabilizer')>,\n",
       " <IBMBackend('simulator_mps')>,\n",
       " <IBMBackend('simulator_stabilizer')>,\n",
       " <IBMBackend('ibm_nairobi')>,\n",
       " <IBMBackend('ibm_lagos')>,\n",
       " <IBMBackend('simulator_statevector')>,\n",
       " <IBMBackend('ibm_perth')>]"
      ]
     },
     "execution_count": 8,
     "metadata": {},
     "output_type": "execute_result"
    }
   ],
   "source": [
    "from qiskit_ibm_provider import IBMProvider\n",
    "#IBMProvider.save_account('5ab66cd482d76c8f33.................2e22d22700ef2b93be5025055692', overwrite=True)\n",
    "provider = IBMProvider()\n",
    "provider.backends()"
   ]
  },
  {
   "cell_type": "markdown",
   "id": "841e3c3b",
   "metadata": {},
   "source": [
    "- `backends()`: Returns all backends available to the account.\n",
    "\n",
    "- `get_backend(NAME)`: Returns the named backend."
   ]
  },
  {
   "cell_type": "code",
   "execution_count": 9,
   "id": "98561fc9",
   "metadata": {},
   "outputs": [
    {
     "data": {
      "text/plain": [
       "<IBMBackend('ibm_nairobi')>"
      ]
     },
     "execution_count": 9,
     "metadata": {},
     "output_type": "execute_result"
    }
   ],
   "source": [
    "back = provider.get_backend(\"ibm_nairobi\")\n",
    "back"
   ]
  },
  {
   "cell_type": "markdown",
   "id": "1c227eea",
   "metadata": {},
   "source": [
    "# Filtering the Backends\n",
    "\n",
    "- The below filters can be combined as desired."
   ]
  },
  {
   "cell_type": "code",
   "execution_count": 10,
   "id": "a45a130d",
   "metadata": {},
   "outputs": [
    {
     "data": {
      "text/plain": [
       "[<IBMBackend('ibm_brisbane')>,\n",
       " <IBMBackend('ibm_nairobi')>,\n",
       " <IBMBackend('ibm_lagos')>,\n",
       " <IBMBackend('ibm_perth')>]"
      ]
     },
     "execution_count": 10,
     "metadata": {},
     "output_type": "execute_result"
    }
   ],
   "source": [
    "provider.backends(simulator=False, operational=True)"
   ]
  },
  {
   "cell_type": "code",
   "execution_count": 11,
   "id": "3468834e",
   "metadata": {},
   "outputs": [
    {
     "data": {
      "text/plain": [
       "[<IBMBackend('ibm_brisbane')>,\n",
       " <IBMBackend('ibm_nairobi')>,\n",
       " <IBMBackend('ibm_lagos')>,\n",
       " <IBMBackend('ibm_perth')>]"
      ]
     },
     "execution_count": 11,
     "metadata": {},
     "output_type": "execute_result"
    }
   ],
   "source": [
    "provider.backends(min_num_qubits=5, simulator=False, operational=True)"
   ]
  },
  {
   "cell_type": "code",
   "execution_count": 12,
   "id": "f04efe10",
   "metadata": {},
   "outputs": [
    {
     "name": "stdout",
     "output_type": "stream",
     "text": [
      "<IBMBackend('ibm_brisbane')>\n"
     ]
    }
   ],
   "source": [
    "from qiskit_ibm_provider import least_busy\n",
    "\n",
    "small_devices = provider.backends(min_num_qubits=5, simulator=False, operational=True)\n",
    "backend = least_busy(small_devices)\n",
    "print(backend)"
   ]
  },
  {
   "cell_type": "code",
   "execution_count": 16,
   "id": "46f59b01",
   "metadata": {},
   "outputs": [
    {
     "data": {
      "image/png": "[encoded data removed]",
      "text/plain": [
       "<Figure size 580.387x284.278 with 1 Axes>"
      ]
     },
     "execution_count": 16,
     "metadata": {},
     "output_type": "execute_result"
    }
   ],
   "source": [
    "from qiskit import *\n",
    "\n",
    "qc = QuantumCircuit(2)\n",
    "qc.h(0)\n",
    "qc.cx(0, 1)\n",
    "qc.measure_all()\n",
    "\n",
    "# Drwaing the circuit in a clifford style (default)\n",
    "# qc.draw(style=\"clifford\", output=\"mpl\")\n",
    "\n",
    "# Drawing the circuit in a transpiled style or a iqp style\n",
    "qc.draw(style=\"iqp\", output=\"mpl\")"
   ]
  }
 ],
 "metadata": {
  "kernelspec": {
   "display_name": "Python 3 (ipykernel)",
   "language": "python",
   "name": "python3"
  },
  "language_info": {
   "codemirror_mode": {
    "name": "ipython",
    "version": 3
   },
   "file_extension": ".py",
   "mimetype": "text/x-python",
   "name": "python",
   "nbconvert_exporter": "python",
   "pygments_lexer": "ipython3",
   "version": "3.11.5"
  }
 },
 "nbformat": 4,
 "nbformat_minor": 5
}
