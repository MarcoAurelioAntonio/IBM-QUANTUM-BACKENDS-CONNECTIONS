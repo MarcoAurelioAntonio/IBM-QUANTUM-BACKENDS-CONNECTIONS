{
 "cells": [
  {
   "cell_type": "markdown",
   "id": "29a5cc87",
   "metadata": {},
   "source": [
    "-[ ]Class Methods: \n",
    "    - `IBMProvider.save_account(TOKEN, INSTANCE)`: Save your account to disk for future use and optionally set a default hub/group/project to be used when loading your account.\n",
    "    - `IBMProvider.saved_accounts()`: View the accounts saved to disk.\n",
    "    - `IBMProvider.delete_account()`: Delete the saved account from disk.\n",
    "    - `IBMProvider.active_account()`: List the account currently active in the session.\n",
    "\n",
    "-[ ]Constructor Usage: \n",
    "    - `IBMProvider()`: Load account and default hub/group/project using saved credentials.\n",
    "    - `IBMProvider(TOKEN)`: Enable your account in the current session."
   ]
  },
  {
   "cell_type": "code",
   "execution_count": 3,
   "id": "b6db54b2",
   "metadata": {},
   "outputs": [
    {
     "data": {
      "text/plain": [
       "[<IBMBackend('simulator_mps')>,\n",
       " <IBMBackend('simulator_statevector')>,\n",
       " <IBMBackend('simulator_stabilizer')>,\n",
       " <IBMBackend('ibm_nairobi')>,\n",
       " <IBMBackend('ibm_lagos')>,\n",
       " <IBMBackend('ibm_perth')>,\n",
       " <IBMBackend('ibmq_qasm_simulator')>,\n",
       " <IBMBackend('ibm_brisbane')>,\n",
       " <IBMBackend('simulator_extended_stabilizer')>]"
      ]
     },
     "execution_count": 3,
     "metadata": {},
     "output_type": "execute_result"
    }
   ],
   "source": [
    "from qiskit_ibm_provider import IBMProvider\n",
    "provider = IBMProvider()\n",
    "provider.backends()\n",
    "\n"
   ]
  },
  {
   "cell_type": "code",
   "execution_count": 5,
   "id": "98561fc9",
   "metadata": {},
   "outputs": [
    {
     "data": {
      "text/plain": [
       "<IBMBackend('ibm_nairobi')>"
      ]
     },
     "execution_count": 5,
     "metadata": {},
     "output_type": "execute_result"
    }
   ],
   "source": [
    "back = provider.get_backend(\"ibm_nairobi\")\n",
    "back"
   ]
  }
 ],
 "metadata": {
  "kernelspec": {
   "display_name": "Python 3 (ipykernel)",
   "language": "python",
   "name": "python3"
  },
  "language_info": {
   "codemirror_mode": {
    "name": "ipython",
    "version": 3
   },
   "file_extension": ".py",
   "mimetype": "text/x-python",
   "name": "python",
   "nbconvert_exporter": "python",
   "pygments_lexer": "ipython3",
   "version": "3.11.5"
  }
 },
 "nbformat": 4,
 "nbformat_minor": 5
}
