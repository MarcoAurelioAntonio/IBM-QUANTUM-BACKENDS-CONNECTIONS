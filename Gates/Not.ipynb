{
 "cells": [
  {
   "cell_type": "code",
   "execution_count": 20,
   "metadata": {},
   "outputs": [
    {
     "data": {
      "image/png": "[encoded data removed]",
      "text/plain": [
       "<Figure size 413.165x200.667 with 1 Axes>"
      ]
     },
     "execution_count": 20,
     "metadata": {},
     "output_type": "execute_result"
    }
   ],
   "source": [
    "from qiskit import QuantumCircuit, execute, Aer\n",
    "from qiskit.tools.visualization import plot_bloch_multivector\n",
    "\n",
    "# Create a Quantum Circuit acting on a quantum register of one qubit\n",
    "circ = QuantumCircuit(1)\n",
    "# alpha = 1\n",
    "# beta = 0\n",
    "# circ.initialize([alpha, beta], 0)\n",
    "circ.x(0)\n",
    "# circ.barrier()\n",
    "circ.measure_all()\n",
    "\n",
    "# Draw the circuit\n",
    "circ.draw(style='iqp', output='mpl')\n"
   ]
  },
  {
   "cell_type": "code",
   "execution_count": 21,
   "metadata": {},
   "outputs": [
    {
     "name": "stdout",
     "output_type": "stream",
     "text": [
      "Statevector([0.+0.j, 1.+0.j],\n",
      "            dims=(2,))\n"
     ]
    }
   ],
   "source": [
    "simulation = Aer.get_backend('statevector_simulator')\n",
    "result = execute(circ, backend = simulation).result()\n",
    "statevector = result.get_statevector()\n",
    "print(statevector)"
   ]
  }
 ],
 "metadata": {
  "kernelspec": {
   "display_name": "base",
   "language": "python",
   "name": "python3"
  },
  "language_info": {
   "codemirror_mode": {
    "name": "ipython",
    "version": 3
   },
   "file_extension": ".py",
   "mimetype": "text/x-python",
   "name": "python",
   "nbconvert_exporter": "python",
   "pygments_lexer": "ipython3",
   "version": "3.11.5"
  }
 },
 "nbformat": 4,
 "nbformat_minor": 5
}
